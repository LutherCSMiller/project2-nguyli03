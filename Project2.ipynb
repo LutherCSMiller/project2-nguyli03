{
 "cells": [
  {
   "cell_type": "code",
   "execution_count": 516,
   "metadata": {
    "collapsed": true
   },
   "outputs": [],
   "source": [
    "%matplotlib inline\n",
    "import matplotlib as lib\n",
    "import pandas as pd\n",
    "from bs4 import BeautifulSoup\n",
    "import requests\n",
    "import json\n",
    "import numpy as np"
   ]
  },
  {
   "cell_type": "code",
   "execution_count": 517,
   "metadata": {
    "collapsed": false
   },
   "outputs": [],
   "source": [
    "video_views=pd.read_csv('video_views.csv')\n",
    "problem=pd.read_csv('problems.csv')\n",
    "problem_attemp=pd.read_csv('problem_attempts.csv')\n",
    "video=pd.read_csv('videos.csv')"
   ]
  },
  {
   "cell_type": "code",
   "execution_count": 518,
   "metadata": {
    "collapsed": false
   },
   "outputs": [
    {
     "data": {
      "text/html": [
       "<div>\n",
       "<table border=\"1\" class=\"dataframe\">\n",
       "  <thead>\n",
       "    <tr style=\"text-align: right;\">\n",
       "      <th></th>\n",
       "      <th>student_id</th>\n",
       "      <th>section</th>\n",
       "      <th>subsection</th>\n",
       "      <th>video_id</th>\n",
       "      <th>date_viewed</th>\n",
       "      <th>duration_seconds</th>\n",
       "      <th>watched_seconds</th>\n",
       "    </tr>\n",
       "  </thead>\n",
       "  <tbody>\n",
       "    <tr>\n",
       "      <th>0</th>\n",
       "      <td>0</td>\n",
       "      <td>Week 1</td>\n",
       "      <td>Lecture 1</td>\n",
       "      <td>lec1_v0</td>\n",
       "      <td>2018-09-25</td>\n",
       "      <td>389</td>\n",
       "      <td>272</td>\n",
       "    </tr>\n",
       "    <tr>\n",
       "      <th>1</th>\n",
       "      <td>0</td>\n",
       "      <td>Week 1</td>\n",
       "      <td>Lecture 1</td>\n",
       "      <td>lec1_v1</td>\n",
       "      <td>2018-09-25</td>\n",
       "      <td>564</td>\n",
       "      <td>164</td>\n",
       "    </tr>\n",
       "    <tr>\n",
       "      <th>2</th>\n",
       "      <td>0</td>\n",
       "      <td>Week 1</td>\n",
       "      <td>Lecture 1</td>\n",
       "      <td>lec1_v2</td>\n",
       "      <td>2018-09-17</td>\n",
       "      <td>343</td>\n",
       "      <td>93</td>\n",
       "    </tr>\n",
       "    <tr>\n",
       "      <th>3</th>\n",
       "      <td>0</td>\n",
       "      <td>Week 1</td>\n",
       "      <td>Lecture 1</td>\n",
       "      <td>lec1_v3</td>\n",
       "      <td>2018-09-28</td>\n",
       "      <td>364</td>\n",
       "      <td>358</td>\n",
       "    </tr>\n",
       "    <tr>\n",
       "      <th>4</th>\n",
       "      <td>0</td>\n",
       "      <td>Week 1</td>\n",
       "      <td>Lecture 1</td>\n",
       "      <td>lec1_v4</td>\n",
       "      <td>2018-10-19</td>\n",
       "      <td>402</td>\n",
       "      <td>229</td>\n",
       "    </tr>\n",
       "  </tbody>\n",
       "</table>\n",
       "</div>"
      ],
      "text/plain": [
       "   student_id section subsection video_id date_viewed  duration_seconds  \\\n",
       "0           0  Week 1  Lecture 1  lec1_v0  2018-09-25               389   \n",
       "1           0  Week 1  Lecture 1  lec1_v1  2018-09-25               564   \n",
       "2           0  Week 1  Lecture 1  lec1_v2  2018-09-17               343   \n",
       "3           0  Week 1  Lecture 1  lec1_v3  2018-09-28               364   \n",
       "4           0  Week 1  Lecture 1  lec1_v4  2018-10-19               402   \n",
       "\n",
       "   watched_seconds  \n",
       "0              272  \n",
       "1              164  \n",
       "2               93  \n",
       "3              358  \n",
       "4              229  "
      ]
     },
     "execution_count": 518,
     "metadata": {},
     "output_type": "execute_result"
    }
   ],
   "source": [
    "video_views.head()\n",
    "# video_views['video_id']=video_views['video_id'].map(lambda x:x.replace('v','p'))\n",
    "# video_views.head()"
   ]
  },
  {
   "cell_type": "code",
   "execution_count": 519,
   "metadata": {
    "collapsed": false
   },
   "outputs": [
    {
     "data": {
      "text/html": [
       "<div>\n",
       "<table border=\"1\" class=\"dataframe\">\n",
       "  <thead>\n",
       "    <tr style=\"text-align: right;\">\n",
       "      <th></th>\n",
       "      <th>student_id</th>\n",
       "      <th>section</th>\n",
       "      <th>subsection</th>\n",
       "      <th>problem_id</th>\n",
       "      <th>date_attempted</th>\n",
       "      <th>max_points</th>\n",
       "      <th>score</th>\n",
       "    </tr>\n",
       "  </thead>\n",
       "  <tbody>\n",
       "    <tr>\n",
       "      <th>0</th>\n",
       "      <td>0</td>\n",
       "      <td>Week 1</td>\n",
       "      <td>Lecture 1</td>\n",
       "      <td>lec1_p0</td>\n",
       "      <td>2018-09-30</td>\n",
       "      <td>1</td>\n",
       "      <td>1</td>\n",
       "    </tr>\n",
       "    <tr>\n",
       "      <th>1</th>\n",
       "      <td>0</td>\n",
       "      <td>Week 1</td>\n",
       "      <td>Lecture 1</td>\n",
       "      <td>lec1_p1</td>\n",
       "      <td>2018-09-30</td>\n",
       "      <td>1</td>\n",
       "      <td>1</td>\n",
       "    </tr>\n",
       "    <tr>\n",
       "      <th>2</th>\n",
       "      <td>0</td>\n",
       "      <td>Week 1</td>\n",
       "      <td>Lecture 1</td>\n",
       "      <td>lec1_p2</td>\n",
       "      <td>2018-11-18</td>\n",
       "      <td>1</td>\n",
       "      <td>0</td>\n",
       "    </tr>\n",
       "    <tr>\n",
       "      <th>3</th>\n",
       "      <td>0</td>\n",
       "      <td>Week 1</td>\n",
       "      <td>Lecture 1</td>\n",
       "      <td>lec1_p3</td>\n",
       "      <td>2018-09-30</td>\n",
       "      <td>1</td>\n",
       "      <td>1</td>\n",
       "    </tr>\n",
       "    <tr>\n",
       "      <th>4</th>\n",
       "      <td>0</td>\n",
       "      <td>Week 1</td>\n",
       "      <td>Lecture 1</td>\n",
       "      <td>lec1_p8</td>\n",
       "      <td>2018-10-31</td>\n",
       "      <td>1</td>\n",
       "      <td>1</td>\n",
       "    </tr>\n",
       "  </tbody>\n",
       "</table>\n",
       "</div>"
      ],
      "text/plain": [
       "   student_id section subsection problem_id date_attempted  max_points  score\n",
       "0           0  Week 1  Lecture 1    lec1_p0     2018-09-30           1      1\n",
       "1           0  Week 1  Lecture 1    lec1_p1     2018-09-30           1      1\n",
       "2           0  Week 1  Lecture 1    lec1_p2     2018-11-18           1      0\n",
       "3           0  Week 1  Lecture 1    lec1_p3     2018-09-30           1      1\n",
       "4           0  Week 1  Lecture 1    lec1_p8     2018-10-31           1      1"
      ]
     },
     "execution_count": 519,
     "metadata": {},
     "output_type": "execute_result"
    }
   ],
   "source": [
    "problem_attemp.head()"
   ]
  },
  {
   "cell_type": "code",
   "execution_count": 520,
   "metadata": {
    "collapsed": false
   },
   "outputs": [
    {
     "data": {
      "text/html": [
       "<div>\n",
       "<table border=\"1\" class=\"dataframe\">\n",
       "  <thead>\n",
       "    <tr style=\"text-align: right;\">\n",
       "      <th></th>\n",
       "      <th>problem_id</th>\n",
       "      <th>section</th>\n",
       "      <th>subsection</th>\n",
       "      <th>max_points</th>\n",
       "    </tr>\n",
       "  </thead>\n",
       "  <tbody>\n",
       "    <tr>\n",
       "      <th>0</th>\n",
       "      <td>lec1_p0</td>\n",
       "      <td>Week 1</td>\n",
       "      <td>Lecture 1</td>\n",
       "      <td>1</td>\n",
       "    </tr>\n",
       "    <tr>\n",
       "      <th>1</th>\n",
       "      <td>lec1_p1</td>\n",
       "      <td>Week 1</td>\n",
       "      <td>Lecture 1</td>\n",
       "      <td>1</td>\n",
       "    </tr>\n",
       "    <tr>\n",
       "      <th>2</th>\n",
       "      <td>lec1_p2</td>\n",
       "      <td>Week 1</td>\n",
       "      <td>Lecture 1</td>\n",
       "      <td>1</td>\n",
       "    </tr>\n",
       "    <tr>\n",
       "      <th>3</th>\n",
       "      <td>lec1_p3</td>\n",
       "      <td>Week 1</td>\n",
       "      <td>Lecture 1</td>\n",
       "      <td>1</td>\n",
       "    </tr>\n",
       "    <tr>\n",
       "      <th>4</th>\n",
       "      <td>lec1_p4</td>\n",
       "      <td>Week 1</td>\n",
       "      <td>Lecture 1</td>\n",
       "      <td>1</td>\n",
       "    </tr>\n",
       "  </tbody>\n",
       "</table>\n",
       "</div>"
      ],
      "text/plain": [
       "  problem_id section subsection  max_points\n",
       "0    lec1_p0  Week 1  Lecture 1           1\n",
       "1    lec1_p1  Week 1  Lecture 1           1\n",
       "2    lec1_p2  Week 1  Lecture 1           1\n",
       "3    lec1_p3  Week 1  Lecture 1           1\n",
       "4    lec1_p4  Week 1  Lecture 1           1"
      ]
     },
     "execution_count": 520,
     "metadata": {},
     "output_type": "execute_result"
    }
   ],
   "source": [
    "problem=problem.rename(columns={'id':'problem_id'})\n",
    "problem.head()"
   ]
  },
  {
   "cell_type": "code",
   "execution_count": 521,
   "metadata": {
    "collapsed": false
   },
   "outputs": [
    {
     "data": {
      "text/html": [
       "<div>\n",
       "<table border=\"1\" class=\"dataframe\">\n",
       "  <thead>\n",
       "    <tr style=\"text-align: right;\">\n",
       "      <th></th>\n",
       "      <th>id</th>\n",
       "      <th>section</th>\n",
       "      <th>subsection</th>\n",
       "      <th>duration_seconds</th>\n",
       "    </tr>\n",
       "  </thead>\n",
       "  <tbody>\n",
       "    <tr>\n",
       "      <th>0</th>\n",
       "      <td>lec1_v0</td>\n",
       "      <td>Week 1</td>\n",
       "      <td>Lecture 1</td>\n",
       "      <td>389</td>\n",
       "    </tr>\n",
       "    <tr>\n",
       "      <th>1</th>\n",
       "      <td>lec1_v1</td>\n",
       "      <td>Week 1</td>\n",
       "      <td>Lecture 1</td>\n",
       "      <td>564</td>\n",
       "    </tr>\n",
       "    <tr>\n",
       "      <th>2</th>\n",
       "      <td>lec1_v2</td>\n",
       "      <td>Week 1</td>\n",
       "      <td>Lecture 1</td>\n",
       "      <td>343</td>\n",
       "    </tr>\n",
       "    <tr>\n",
       "      <th>3</th>\n",
       "      <td>lec1_v3</td>\n",
       "      <td>Week 1</td>\n",
       "      <td>Lecture 1</td>\n",
       "      <td>364</td>\n",
       "    </tr>\n",
       "    <tr>\n",
       "      <th>4</th>\n",
       "      <td>lec1_v4</td>\n",
       "      <td>Week 1</td>\n",
       "      <td>Lecture 1</td>\n",
       "      <td>402</td>\n",
       "    </tr>\n",
       "  </tbody>\n",
       "</table>\n",
       "</div>"
      ],
      "text/plain": [
       "        id section subsection  duration_seconds\n",
       "0  lec1_v0  Week 1  Lecture 1               389\n",
       "1  lec1_v1  Week 1  Lecture 1               564\n",
       "2  lec1_v2  Week 1  Lecture 1               343\n",
       "3  lec1_v3  Week 1  Lecture 1               364\n",
       "4  lec1_v4  Week 1  Lecture 1               402"
      ]
     },
     "execution_count": 521,
     "metadata": {},
     "output_type": "execute_result"
    }
   ],
   "source": [
    "video.head()\n",
    "# video['id']=video['id'].map(lambda x:x.replace('v','p'))\n",
    "# video.head()"
   ]
  },
  {
   "cell_type": "code",
   "execution_count": 522,
   "metadata": {
    "collapsed": false
   },
   "outputs": [
    {
     "data": {
      "text/html": [
       "<div>\n",
       "<table border=\"1\" class=\"dataframe\">\n",
       "  <thead>\n",
       "    <tr style=\"text-align: right;\">\n",
       "      <th></th>\n",
       "      <th>subsection</th>\n",
       "      <th>section</th>\n",
       "      <th>max_points_lecture</th>\n",
       "    </tr>\n",
       "  </thead>\n",
       "  <tbody>\n",
       "    <tr>\n",
       "      <th>0</th>\n",
       "      <td>Lecture 1</td>\n",
       "      <td>Week 1</td>\n",
       "      <td>9</td>\n",
       "    </tr>\n",
       "    <tr>\n",
       "      <th>1</th>\n",
       "      <td>Lecture 10</td>\n",
       "      <td>Week 5</td>\n",
       "      <td>7</td>\n",
       "    </tr>\n",
       "    <tr>\n",
       "      <th>2</th>\n",
       "      <td>Lecture 11</td>\n",
       "      <td>Week 6</td>\n",
       "      <td>10</td>\n",
       "    </tr>\n",
       "    <tr>\n",
       "      <th>3</th>\n",
       "      <td>Lecture 12</td>\n",
       "      <td>Week 6</td>\n",
       "      <td>5</td>\n",
       "    </tr>\n",
       "    <tr>\n",
       "      <th>4</th>\n",
       "      <td>Lecture 13</td>\n",
       "      <td>Week 7</td>\n",
       "      <td>7</td>\n",
       "    </tr>\n",
       "  </tbody>\n",
       "</table>\n",
       "</div>"
      ],
      "text/plain": [
       "   subsection section  max_points_lecture\n",
       "0   Lecture 1  Week 1                   9\n",
       "1  Lecture 10  Week 5                   7\n",
       "2  Lecture 11  Week 6                  10\n",
       "3  Lecture 12  Week 6                   5\n",
       "4  Lecture 13  Week 7                   7"
      ]
     },
     "execution_count": 522,
     "metadata": {},
     "output_type": "execute_result"
    }
   ],
   "source": [
    "x=problem.groupby(['subsection','section']).sum()\n",
    "x=x.reset_index()\n",
    "x=x.rename(columns={'max_points':'max_points_lecture'})\n",
    "# problemMP=pd.merge(x,problem,right_on='subsection',left_on='subsection')\n",
    "# problemMP.head()\n",
    "x.head()"
   ]
  },
  {
   "cell_type": "code",
   "execution_count": 523,
   "metadata": {
    "collapsed": false
   },
   "outputs": [
    {
     "data": {
      "text/html": [
       "<div>\n",
       "<table border=\"1\" class=\"dataframe\">\n",
       "  <thead>\n",
       "    <tr style=\"text-align: right;\">\n",
       "      <th></th>\n",
       "      <th>student_id</th>\n",
       "      <th>section</th>\n",
       "      <th>subsection</th>\n",
       "      <th>max_points</th>\n",
       "      <th>StudentScore</th>\n",
       "    </tr>\n",
       "  </thead>\n",
       "  <tbody>\n",
       "    <tr>\n",
       "      <th>0</th>\n",
       "      <td>0</td>\n",
       "      <td>Week 1</td>\n",
       "      <td>Lecture 1</td>\n",
       "      <td>5</td>\n",
       "      <td>4</td>\n",
       "    </tr>\n",
       "    <tr>\n",
       "      <th>1</th>\n",
       "      <td>0</td>\n",
       "      <td>Week 1</td>\n",
       "      <td>Lecture 2</td>\n",
       "      <td>1</td>\n",
       "      <td>1</td>\n",
       "    </tr>\n",
       "    <tr>\n",
       "      <th>2</th>\n",
       "      <td>0</td>\n",
       "      <td>Week 2</td>\n",
       "      <td>Lecture 3</td>\n",
       "      <td>1</td>\n",
       "      <td>1</td>\n",
       "    </tr>\n",
       "    <tr>\n",
       "      <th>3</th>\n",
       "      <td>1</td>\n",
       "      <td>Week 1</td>\n",
       "      <td>Lecture 1</td>\n",
       "      <td>4</td>\n",
       "      <td>2</td>\n",
       "    </tr>\n",
       "    <tr>\n",
       "      <th>4</th>\n",
       "      <td>1</td>\n",
       "      <td>Week 1</td>\n",
       "      <td>Lecture 2</td>\n",
       "      <td>1</td>\n",
       "      <td>1</td>\n",
       "    </tr>\n",
       "  </tbody>\n",
       "</table>\n",
       "</div>"
      ],
      "text/plain": [
       "   student_id section subsection  max_points  StudentScore\n",
       "0           0  Week 1  Lecture 1           5             4\n",
       "1           0  Week 1  Lecture 2           1             1\n",
       "2           0  Week 2  Lecture 3           1             1\n",
       "3           1  Week 1  Lecture 1           4             2\n",
       "4           1  Week 1  Lecture 2           1             1"
      ]
     },
     "execution_count": 523,
     "metadata": {},
     "output_type": "execute_result"
    }
   ],
   "source": [
    "y=problem_attemp.groupby(['student_id','section','subsection']).sum()\n",
    "y=y.reset_index()\n",
    "y=y.rename(columns={'score':'StudentScore'})\n",
    "y.head()"
   ]
  },
  {
   "cell_type": "code",
   "execution_count": 524,
   "metadata": {
    "collapsed": false
   },
   "outputs": [],
   "source": [
    "y=y.drop('max_points',1)"
   ]
  },
  {
   "cell_type": "code",
   "execution_count": 525,
   "metadata": {
    "collapsed": false
   },
   "outputs": [
    {
     "data": {
      "text/html": [
       "<div>\n",
       "<table border=\"1\" class=\"dataframe\">\n",
       "  <thead>\n",
       "    <tr style=\"text-align: right;\">\n",
       "      <th></th>\n",
       "      <th>subsection</th>\n",
       "      <th>section</th>\n",
       "      <th>max_points_lecture</th>\n",
       "      <th>student_id</th>\n",
       "      <th>StudentScore</th>\n",
       "    </tr>\n",
       "  </thead>\n",
       "  <tbody>\n",
       "    <tr>\n",
       "      <th>0</th>\n",
       "      <td>Lecture 1</td>\n",
       "      <td>Week 1</td>\n",
       "      <td>9</td>\n",
       "      <td>0</td>\n",
       "      <td>4</td>\n",
       "    </tr>\n",
       "    <tr>\n",
       "      <th>1</th>\n",
       "      <td>Lecture 1</td>\n",
       "      <td>Week 1</td>\n",
       "      <td>9</td>\n",
       "      <td>1</td>\n",
       "      <td>2</td>\n",
       "    </tr>\n",
       "    <tr>\n",
       "      <th>2</th>\n",
       "      <td>Lecture 1</td>\n",
       "      <td>Week 1</td>\n",
       "      <td>9</td>\n",
       "      <td>2</td>\n",
       "      <td>1</td>\n",
       "    </tr>\n",
       "    <tr>\n",
       "      <th>3</th>\n",
       "      <td>Lecture 1</td>\n",
       "      <td>Week 1</td>\n",
       "      <td>9</td>\n",
       "      <td>3</td>\n",
       "      <td>0</td>\n",
       "    </tr>\n",
       "    <tr>\n",
       "      <th>4</th>\n",
       "      <td>Lecture 1</td>\n",
       "      <td>Week 1</td>\n",
       "      <td>9</td>\n",
       "      <td>5</td>\n",
       "      <td>1</td>\n",
       "    </tr>\n",
       "  </tbody>\n",
       "</table>\n",
       "</div>"
      ],
      "text/plain": [
       "  subsection section  max_points_lecture  student_id  StudentScore\n",
       "0  Lecture 1  Week 1                   9           0             4\n",
       "1  Lecture 1  Week 1                   9           1             2\n",
       "2  Lecture 1  Week 1                   9           2             1\n",
       "3  Lecture 1  Week 1                   9           3             0\n",
       "4  Lecture 1  Week 1                   9           5             1"
      ]
     },
     "execution_count": 525,
     "metadata": {},
     "output_type": "execute_result"
    }
   ],
   "source": [
    "score=pd.merge(x,y,left_on=['subsection','section'],right_on=['subsection','section'],how='outer')\n",
    "score.head()"
   ]
  },
  {
   "cell_type": "code",
   "execution_count": 526,
   "metadata": {
    "collapsed": false
   },
   "outputs": [],
   "source": [
    "#assuming that to pass a week, the student score has to be above 75%. We will see if students pass some weeks\n",
    "def passFail(row):\n",
    "    if row['StudentScore']/row['maxPointsWeek']>=.5:\n",
    "        return \"P\"\n",
    "    else:\n",
    "        return \"F\"\n",
    "# score['P/F']=score.apply(passFail,axis=1)\n",
    "# score.sort_values('student_id').head()"
   ]
  },
  {
   "cell_type": "code",
   "execution_count": 527,
   "metadata": {
    "collapsed": false
   },
   "outputs": [],
   "source": [
    "# temp=score.groupby(['student_id']).max()\n",
    "# temp=temp.reset_index()\n",
    "# temp.rename(columns={'section':'noWeeks'},inplace=True)\n",
    "# pf=pd.merge(score,temp[['student_id','noWeeks']],left_on='student_id',right_on='student_id')\n",
    "# pf.sort_values('student_id',ascending=True).head()"
   ]
  },
  {
   "cell_type": "markdown",
   "metadata": {},
   "source": [
    "There are 8 weeks and each week has at least 1 lectures. We will see how students doing, whether they fail or pass or complete the course. Maybe draft the number of weeks people complete?"
   ]
  },
  {
   "cell_type": "code",
   "execution_count": 528,
   "metadata": {
    "collapsed": false
   },
   "outputs": [],
   "source": [
    "# pf.groupby(['noWeeks']).agg({\n",
    "#         'student_id':pd.Series.nunique,\n",
    "#          'max_points_lecture':np.sum,\n",
    "#         'TotalCharges':np.sum\n",
    "#     })"
   ]
  },
  {
   "cell_type": "code",
   "execution_count": 529,
   "metadata": {
    "collapsed": false,
    "scrolled": true
   },
   "outputs": [],
   "source": [
    "temp=score.groupby(['student_id']).agg({\n",
    "        'section':np.max,\n",
    "        'max_points_lecture':np.sum,\n",
    "        'StudentScore':np.sum\n",
    "})\n",
    "temp.rename(columns={'studentScore':'studentScoreWeeks','max_points_lecture':'maxPointsWeek','section':'weekFinished'},inplace=True)\n",
    "temp=temp.reset_index()\n",
    "temp['PorF']=temp.apply(passFail,axis=1)\n",
    "noStudents=len(temp)"
   ]
  },
  {
   "cell_type": "code",
   "execution_count": 530,
   "metadata": {
    "collapsed": false
   },
   "outputs": [
    {
     "data": {
      "text/html": [
       "<div>\n",
       "<table border=\"1\" class=\"dataframe\">\n",
       "  <thead>\n",
       "    <tr style=\"text-align: right;\">\n",
       "      <th></th>\n",
       "      <th>student_id</th>\n",
       "      <th>StudentScore</th>\n",
       "      <th>maxPointsWeek</th>\n",
       "      <th>weekFinished</th>\n",
       "      <th>PorF</th>\n",
       "    </tr>\n",
       "  </thead>\n",
       "  <tbody>\n",
       "    <tr>\n",
       "      <th>0</th>\n",
       "      <td>0</td>\n",
       "      <td>6</td>\n",
       "      <td>22</td>\n",
       "      <td>Week 2</td>\n",
       "      <td>F</td>\n",
       "    </tr>\n",
       "    <tr>\n",
       "      <th>1</th>\n",
       "      <td>1</td>\n",
       "      <td>4</td>\n",
       "      <td>22</td>\n",
       "      <td>Week 2</td>\n",
       "      <td>F</td>\n",
       "    </tr>\n",
       "    <tr>\n",
       "      <th>2</th>\n",
       "      <td>2</td>\n",
       "      <td>1</td>\n",
       "      <td>9</td>\n",
       "      <td>Week 1</td>\n",
       "      <td>F</td>\n",
       "    </tr>\n",
       "    <tr>\n",
       "      <th>3</th>\n",
       "      <td>3</td>\n",
       "      <td>0</td>\n",
       "      <td>9</td>\n",
       "      <td>Week 1</td>\n",
       "      <td>F</td>\n",
       "    </tr>\n",
       "    <tr>\n",
       "      <th>4</th>\n",
       "      <td>5</td>\n",
       "      <td>1</td>\n",
       "      <td>9</td>\n",
       "      <td>Week 1</td>\n",
       "      <td>F</td>\n",
       "    </tr>\n",
       "  </tbody>\n",
       "</table>\n",
       "</div>"
      ],
      "text/plain": [
       "   student_id  StudentScore  maxPointsWeek weekFinished PorF\n",
       "0           0             6             22       Week 2    F\n",
       "1           1             4             22       Week 2    F\n",
       "2           2             1              9       Week 1    F\n",
       "3           3             0              9       Week 1    F\n",
       "4           5             1              9       Week 1    F"
      ]
     },
     "execution_count": 530,
     "metadata": {},
     "output_type": "execute_result"
    }
   ],
   "source": [
    "temp.head()"
   ]
  },
  {
   "cell_type": "code",
   "execution_count": 531,
   "metadata": {
    "collapsed": false,
    "scrolled": true
   },
   "outputs": [
    {
     "data": {
      "text/html": [
       "<div>\n",
       "<table border=\"1\" class=\"dataframe\">\n",
       "  <thead>\n",
       "    <tr style=\"text-align: right;\">\n",
       "      <th></th>\n",
       "      <th>weekFinished</th>\n",
       "      <th>PorF</th>\n",
       "      <th>countPF</th>\n",
       "    </tr>\n",
       "  </thead>\n",
       "  <tbody>\n",
       "    <tr>\n",
       "      <th>0</th>\n",
       "      <td>Week 1</td>\n",
       "      <td>F</td>\n",
       "      <td>210</td>\n",
       "    </tr>\n",
       "    <tr>\n",
       "      <th>1</th>\n",
       "      <td>Week 1</td>\n",
       "      <td>P</td>\n",
       "      <td>2</td>\n",
       "    </tr>\n",
       "    <tr>\n",
       "      <th>2</th>\n",
       "      <td>Week 2</td>\n",
       "      <td>F</td>\n",
       "      <td>43</td>\n",
       "    </tr>\n",
       "    <tr>\n",
       "      <th>3</th>\n",
       "      <td>Week 3</td>\n",
       "      <td>F</td>\n",
       "      <td>1</td>\n",
       "    </tr>\n",
       "    <tr>\n",
       "      <th>4</th>\n",
       "      <td>Week 5</td>\n",
       "      <td>P</td>\n",
       "      <td>1</td>\n",
       "    </tr>\n",
       "    <tr>\n",
       "      <th>5</th>\n",
       "      <td>Week 6</td>\n",
       "      <td>F</td>\n",
       "      <td>5</td>\n",
       "    </tr>\n",
       "    <tr>\n",
       "      <th>6</th>\n",
       "      <td>Week 7</td>\n",
       "      <td>F</td>\n",
       "      <td>1</td>\n",
       "    </tr>\n",
       "    <tr>\n",
       "      <th>7</th>\n",
       "      <td>Week 7</td>\n",
       "      <td>P</td>\n",
       "      <td>2</td>\n",
       "    </tr>\n",
       "    <tr>\n",
       "      <th>8</th>\n",
       "      <td>Week 8</td>\n",
       "      <td>F</td>\n",
       "      <td>9</td>\n",
       "    </tr>\n",
       "    <tr>\n",
       "      <th>9</th>\n",
       "      <td>Week 8</td>\n",
       "      <td>P</td>\n",
       "      <td>23</td>\n",
       "    </tr>\n",
       "  </tbody>\n",
       "</table>\n",
       "</div>"
      ],
      "text/plain": [
       "  weekFinished PorF  countPF\n",
       "0       Week 1    F      210\n",
       "1       Week 1    P        2\n",
       "2       Week 2    F       43\n",
       "3       Week 3    F        1\n",
       "4       Week 5    P        1\n",
       "5       Week 6    F        5\n",
       "6       Week 7    F        1\n",
       "7       Week 7    P        2\n",
       "8       Week 8    F        9\n",
       "9       Week 8    P       23"
      ]
     },
     "execution_count": 531,
     "metadata": {},
     "output_type": "execute_result"
    }
   ],
   "source": [
    "weeks=temp.groupby(['weekFinished','PorF']).count()['student_id']\n",
    "weeks.rename(columns={'student_id':'students'},inplace=True)\n",
    "weeks=weeks.reset_index()\n",
    "weeks.rename(columns={0:'countPF'},inplace=True)\n",
    "weeks"
   ]
  },
  {
   "cell_type": "code",
   "execution_count": 532,
   "metadata": {
    "collapsed": false
   },
   "outputs": [
    {
     "data": {
      "text/html": [
       "<div>\n",
       "<table border=\"1\" class=\"dataframe\">\n",
       "  <thead>\n",
       "    <tr style=\"text-align: right;\">\n",
       "      <th></th>\n",
       "      <th>weekFinished</th>\n",
       "      <th>count</th>\n",
       "      <th>%week</th>\n",
       "    </tr>\n",
       "  </thead>\n",
       "  <tbody>\n",
       "    <tr>\n",
       "      <th>0</th>\n",
       "      <td>Week 1</td>\n",
       "      <td>212</td>\n",
       "      <td>0.713805</td>\n",
       "    </tr>\n",
       "    <tr>\n",
       "      <th>1</th>\n",
       "      <td>Week 2</td>\n",
       "      <td>43</td>\n",
       "      <td>0.144781</td>\n",
       "    </tr>\n",
       "    <tr>\n",
       "      <th>2</th>\n",
       "      <td>Week 3</td>\n",
       "      <td>1</td>\n",
       "      <td>0.003367</td>\n",
       "    </tr>\n",
       "    <tr>\n",
       "      <th>3</th>\n",
       "      <td>Week 5</td>\n",
       "      <td>1</td>\n",
       "      <td>0.003367</td>\n",
       "    </tr>\n",
       "    <tr>\n",
       "      <th>4</th>\n",
       "      <td>Week 6</td>\n",
       "      <td>5</td>\n",
       "      <td>0.016835</td>\n",
       "    </tr>\n",
       "    <tr>\n",
       "      <th>5</th>\n",
       "      <td>Week 7</td>\n",
       "      <td>3</td>\n",
       "      <td>0.010101</td>\n",
       "    </tr>\n",
       "    <tr>\n",
       "      <th>6</th>\n",
       "      <td>Week 8</td>\n",
       "      <td>32</td>\n",
       "      <td>0.107744</td>\n",
       "    </tr>\n",
       "  </tbody>\n",
       "</table>\n",
       "</div>"
      ],
      "text/plain": [
       "  weekFinished  count     %week\n",
       "0       Week 1    212  0.713805\n",
       "1       Week 2     43  0.144781\n",
       "2       Week 3      1  0.003367\n",
       "3       Week 5      1  0.003367\n",
       "4       Week 6      5  0.016835\n",
       "5       Week 7      3  0.010101\n",
       "6       Week 8     32  0.107744"
      ]
     },
     "execution_count": 532,
     "metadata": {},
     "output_type": "execute_result"
    }
   ],
   "source": [
    "x=weeks.groupby('weekFinished').sum()\n",
    "x=x.reset_index()\n",
    "x['%week']=x['countPF']/x['countPF'].sum()\n",
    "x.rename(columns={'countPF':'count'},inplace=True)\n",
    "x"
   ]
  },
  {
   "cell_type": "code",
   "execution_count": 533,
   "metadata": {
    "collapsed": false
   },
   "outputs": [],
   "source": [
    "weeks=pd.merge(weeks,x,left_on='weekFinished',right_on='weekFinished')\n",
    "weeks['%PF']=weeks['countPF']/weeks['count']\n"
   ]
  },
  {
   "cell_type": "code",
   "execution_count": 534,
   "metadata": {
    "collapsed": false
   },
   "outputs": [
    {
     "data": {
      "text/html": [
       "<div>\n",
       "<table border=\"1\" class=\"dataframe\">\n",
       "  <thead>\n",
       "    <tr style=\"text-align: right;\">\n",
       "      <th></th>\n",
       "      <th>weekFinished</th>\n",
       "      <th>PorF</th>\n",
       "      <th>countPF</th>\n",
       "      <th>count</th>\n",
       "      <th>%week</th>\n",
       "      <th>%PF</th>\n",
       "      <th>%PFw</th>\n",
       "    </tr>\n",
       "  </thead>\n",
       "  <tbody>\n",
       "    <tr>\n",
       "      <th>0</th>\n",
       "      <td>Week 1</td>\n",
       "      <td>F</td>\n",
       "      <td>210</td>\n",
       "      <td>212</td>\n",
       "      <td>0.713805</td>\n",
       "      <td>0.990566</td>\n",
       "      <td>0.707071</td>\n",
       "    </tr>\n",
       "    <tr>\n",
       "      <th>1</th>\n",
       "      <td>Week 1</td>\n",
       "      <td>P</td>\n",
       "      <td>2</td>\n",
       "      <td>212</td>\n",
       "      <td>0.713805</td>\n",
       "      <td>0.009434</td>\n",
       "      <td>0.006734</td>\n",
       "    </tr>\n",
       "    <tr>\n",
       "      <th>2</th>\n",
       "      <td>Week 2</td>\n",
       "      <td>F</td>\n",
       "      <td>43</td>\n",
       "      <td>43</td>\n",
       "      <td>0.144781</td>\n",
       "      <td>1.000000</td>\n",
       "      <td>0.144781</td>\n",
       "    </tr>\n",
       "    <tr>\n",
       "      <th>3</th>\n",
       "      <td>Week 3</td>\n",
       "      <td>F</td>\n",
       "      <td>1</td>\n",
       "      <td>1</td>\n",
       "      <td>0.003367</td>\n",
       "      <td>1.000000</td>\n",
       "      <td>0.003367</td>\n",
       "    </tr>\n",
       "    <tr>\n",
       "      <th>4</th>\n",
       "      <td>Week 5</td>\n",
       "      <td>P</td>\n",
       "      <td>1</td>\n",
       "      <td>1</td>\n",
       "      <td>0.003367</td>\n",
       "      <td>1.000000</td>\n",
       "      <td>0.003367</td>\n",
       "    </tr>\n",
       "    <tr>\n",
       "      <th>5</th>\n",
       "      <td>Week 6</td>\n",
       "      <td>F</td>\n",
       "      <td>5</td>\n",
       "      <td>5</td>\n",
       "      <td>0.016835</td>\n",
       "      <td>1.000000</td>\n",
       "      <td>0.016835</td>\n",
       "    </tr>\n",
       "    <tr>\n",
       "      <th>6</th>\n",
       "      <td>Week 7</td>\n",
       "      <td>F</td>\n",
       "      <td>1</td>\n",
       "      <td>3</td>\n",
       "      <td>0.010101</td>\n",
       "      <td>0.333333</td>\n",
       "      <td>0.003367</td>\n",
       "    </tr>\n",
       "    <tr>\n",
       "      <th>7</th>\n",
       "      <td>Week 7</td>\n",
       "      <td>P</td>\n",
       "      <td>2</td>\n",
       "      <td>3</td>\n",
       "      <td>0.010101</td>\n",
       "      <td>0.666667</td>\n",
       "      <td>0.006734</td>\n",
       "    </tr>\n",
       "    <tr>\n",
       "      <th>8</th>\n",
       "      <td>Week 8</td>\n",
       "      <td>F</td>\n",
       "      <td>9</td>\n",
       "      <td>32</td>\n",
       "      <td>0.107744</td>\n",
       "      <td>0.281250</td>\n",
       "      <td>0.030303</td>\n",
       "    </tr>\n",
       "    <tr>\n",
       "      <th>9</th>\n",
       "      <td>Week 8</td>\n",
       "      <td>P</td>\n",
       "      <td>23</td>\n",
       "      <td>32</td>\n",
       "      <td>0.107744</td>\n",
       "      <td>0.718750</td>\n",
       "      <td>0.077441</td>\n",
       "    </tr>\n",
       "  </tbody>\n",
       "</table>\n",
       "</div>"
      ],
      "text/plain": [
       "  weekFinished PorF  countPF  count     %week       %PF      %PFw\n",
       "0       Week 1    F      210    212  0.713805  0.990566  0.707071\n",
       "1       Week 1    P        2    212  0.713805  0.009434  0.006734\n",
       "2       Week 2    F       43     43  0.144781  1.000000  0.144781\n",
       "3       Week 3    F        1      1  0.003367  1.000000  0.003367\n",
       "4       Week 5    P        1      1  0.003367  1.000000  0.003367\n",
       "5       Week 6    F        5      5  0.016835  1.000000  0.016835\n",
       "6       Week 7    F        1      3  0.010101  0.333333  0.003367\n",
       "7       Week 7    P        2      3  0.010101  0.666667  0.006734\n",
       "8       Week 8    F        9     32  0.107744  0.281250  0.030303\n",
       "9       Week 8    P       23     32  0.107744  0.718750  0.077441"
      ]
     },
     "execution_count": 534,
     "metadata": {},
     "output_type": "execute_result"
    }
   ],
   "source": [
    "weeks['%PFw']=weeks['%PF']*weeks['%week']\n",
    "weeks"
   ]
  },
  {
   "cell_type": "code",
   "execution_count": 535,
   "metadata": {
    "collapsed": false
   },
   "outputs": [],
   "source": [
    "import seaborn as sns\n",
    "import matplotlib.pyplot as plt"
   ]
  },
  {
   "cell_type": "code",
   "execution_count": null,
   "metadata": {
    "collapsed": false
   },
   "outputs": [],
   "source": []
  },
  {
   "cell_type": "code",
   "execution_count": 536,
   "metadata": {
    "collapsed": false
   },
   "outputs": [
    {
     "data": {
      "image/png": "[encoded data removed]",
      "text/plain": [
       "<matplotlib.figure.Figure at 0x7f26ff9aeb70>"
      ]
     },
     "metadata": {},
     "output_type": "display_data"
    }
   ],
   "source": [
    "flatui = [\"#ef4321\",'#9ffc8d']\n",
    "g=sns.barplot(x='weekFinished',y='%PFw',hue=\"PorF\",data=weeks,palette=sns.color_palette(flatui),ci=None)\n",
    "\n",
    "# remove the top and right line in graph\n",
    "sns.despine()\n",
    "\n",
    "# Set the size of the graph from here\n",
    "g.figure.set_size_inches(12,7)\n",
    "# Set the Title of the graph from here\n",
    "g.axes.set_title('How many %people actually \\n finish an online course?', \n",
    "    fontsize=34,color=\"r\",alpha=0.3)\n",
    "# Set the xlabel of the graph from here\n",
    "g.set_xlabel(\"week\",size = 20,color=\"b\",alpha=0.5)\n",
    "# Set the ylabel of the graph from here\n",
    "g.set_ylabel(\"%people\",size =20,color=\"b\",alpha=0.5)\n",
    "#Set the legend\n",
    "g.legend(title= 'Pass (P) or Fail (F)',loc='upper right')\n",
    "# Set the ticklabel size and color of the graph from here\n",
    "g.tick_params(labelsize=14,labelcolor=\"black\")\n",
    "for p in g.patches:\n",
    "    g.annotate(np.round(p.get_height(),decimals=3), (p.get_x()+p.get_width()/2., p.get_height()), ha='center', va='center', xytext=(0, 15), textcoords='offset points')"
   ]
  },
  {
   "cell_type": "code",
   "execution_count": 537,
   "metadata": {
    "collapsed": false
   },
   "outputs": [
    {
     "data": {
      "image/png": "[encoded data removed]",
      "text/plain": [
       "<matplotlib.figure.Figure at 0x7f26ff9ae2b0>"
      ]
     },
     "metadata": {},
     "output_type": "display_data"
    }
   ],
   "source": [
    "g2=sns.barplot(x='weekFinished',y='%week',data=weeks,ci=None)\n",
    "\n",
    "# remove the top and right line in graph\n",
    "sns.despine()\n",
    "\n",
    "# Set the size of the graph from here\n",
    "g2.figure.set_size_inches(12,7)\n",
    "# Set the Title of the graph from here\n",
    "g2.axes.set_title('How many %people actually \\n finish an online course?', \n",
    "    fontsize=34,color=\"r\",alpha=0.3)\n",
    "# Set the xlabel of the graph from here\n",
    "g2.set_xlabel(\"week\",size = 20,color=\"b\",alpha=0.5)\n",
    "# Set the ylabel of the graph from here\n",
    "g2.set_ylabel(\" %people\",size = 20,color=\"b\",alpha=0.5)\n",
    "#Set the le\n",
    "#g2.legend(title= 'Pass (P) or Fail (F)',loc='upper right')\n",
    "# Set the ticklabel size and color of the graph from here\n",
    "g2.tick_params(labelsize=14,labelcolor=\"black\")\n",
    "for p in g2.patches:\n",
    "    g2.annotate(np.round(p.get_height(),decimals=3), (p.get_x()+p.get_width()/2., p.get_height()), ha='center', va='center', xytext=(0, 15), textcoords='offset points')"
   ]
  },
  {
   "cell_type": "code",
   "execution_count": 538,
   "metadata": {
    "collapsed": false
   },
   "outputs": [
    {
     "data": {
      "image/png": "[encoded data removed]",
      "text/plain": [
       "<matplotlib.figure.Figure at 0x7f26ff8dfef0>"
      ]
     },
     "metadata": {},
     "output_type": "display_data"
    }
   ],
   "source": [
    "g.figure.set_size_inches(12,7)\n",
    "#Plot 1 - background - \"total\" (top) series\n",
    "g=sns.barplot(x ='weekFinished', y = '%week', data=weeks,color='#9ffc8d')\n",
    "for p in g.patches:\n",
    "    g.annotate(np.round(p.get_height(),decimals=3), (p.get_x()+p.get_width()/2., p.get_height()), ha='center', va='center', xytext=(0, 15), textcoords='offset points')\n",
    "\n",
    "#Plot 2 - overlay - \"bottom\" series\n",
    "bottom_plot = sns.barplot(x ='weekFinished', y = weeks[weeks.PorF=='F']['%PFw'],data=weeks, color = \"#ef4321\")\n",
    "\n",
    "\n",
    "topbar = plt.Rectangle((0,0),1,1,fc='#9ffc8d', edgecolor = 'none')\n",
    "bottombar = plt.Rectangle((0,0),1,1,fc='#ef4321',  edgecolor = 'none')\n",
    "l = plt.legend([bottombar, topbar], ['Fail exercises', 'Pass exercises'], loc=1, ncol = 2, prop={'size':10})\n",
    "l.draw_frame(False)\n",
    "\n",
    "g.axes.set_title('%people finish their online course?', \n",
    "    fontsize=20,color=\"r\",alpha=0.3)\n",
    "# Set the xlabel of the graph from here\n",
    "g.set_xlabel(\"week\",size = 15,color=\"b\",alpha=0.5)\n",
    "# Set the ylabel of the graph from here\n",
    "g.set_ylabel(\"%people\",size = 15,color=\"b\",alpha=0.5)\n",
    "\n",
    "fig = g.get_figure()\n",
    "fig.savefig('output.png') \n"
   ]
  },
  {
   "cell_type": "code",
   "execution_count": 542,
   "metadata": {
    "collapsed": false
   },
   "outputs": [
    {
     "data": {
      "text/html": [
       "<div>\n",
       "<table border=\"1\" class=\"dataframe\">\n",
       "  <thead>\n",
       "    <tr style=\"text-align: right;\">\n",
       "      <th></th>\n",
       "      <th>weekFinished</th>\n",
       "      <th>PorF</th>\n",
       "      <th>countPF</th>\n",
       "      <th>count</th>\n",
       "      <th>%week</th>\n",
       "      <th>%PF</th>\n",
       "      <th>%PFw</th>\n",
       "    </tr>\n",
       "  </thead>\n",
       "  <tbody>\n",
       "    <tr>\n",
       "      <th>0</th>\n",
       "      <td>Week 1</td>\n",
       "      <td>F</td>\n",
       "      <td>210</td>\n",
       "      <td>212</td>\n",
       "      <td>0.713805</td>\n",
       "      <td>0.990566</td>\n",
       "      <td>0.707071</td>\n",
       "    </tr>\n",
       "    <tr>\n",
       "      <th>1</th>\n",
       "      <td>Week 1</td>\n",
       "      <td>P</td>\n",
       "      <td>2</td>\n",
       "      <td>212</td>\n",
       "      <td>0.713805</td>\n",
       "      <td>0.009434</td>\n",
       "      <td>0.006734</td>\n",
       "    </tr>\n",
       "    <tr>\n",
       "      <th>2</th>\n",
       "      <td>Week 2</td>\n",
       "      <td>F</td>\n",
       "      <td>43</td>\n",
       "      <td>43</td>\n",
       "      <td>0.144781</td>\n",
       "      <td>1.000000</td>\n",
       "      <td>0.144781</td>\n",
       "    </tr>\n",
       "    <tr>\n",
       "      <th>3</th>\n",
       "      <td>Week 3</td>\n",
       "      <td>F</td>\n",
       "      <td>1</td>\n",
       "      <td>1</td>\n",
       "      <td>0.003367</td>\n",
       "      <td>1.000000</td>\n",
       "      <td>0.003367</td>\n",
       "    </tr>\n",
       "    <tr>\n",
       "      <th>4</th>\n",
       "      <td>Week 5</td>\n",
       "      <td>P</td>\n",
       "      <td>1</td>\n",
       "      <td>1</td>\n",
       "      <td>0.003367</td>\n",
       "      <td>1.000000</td>\n",
       "      <td>0.003367</td>\n",
       "    </tr>\n",
       "    <tr>\n",
       "      <th>5</th>\n",
       "      <td>Week 6</td>\n",
       "      <td>F</td>\n",
       "      <td>5</td>\n",
       "      <td>5</td>\n",
       "      <td>0.016835</td>\n",
       "      <td>1.000000</td>\n",
       "      <td>0.016835</td>\n",
       "    </tr>\n",
       "    <tr>\n",
       "      <th>6</th>\n",
       "      <td>Week 7</td>\n",
       "      <td>F</td>\n",
       "      <td>1</td>\n",
       "      <td>3</td>\n",
       "      <td>0.010101</td>\n",
       "      <td>0.333333</td>\n",
       "      <td>0.003367</td>\n",
       "    </tr>\n",
       "    <tr>\n",
       "      <th>7</th>\n",
       "      <td>Week 7</td>\n",
       "      <td>P</td>\n",
       "      <td>2</td>\n",
       "      <td>3</td>\n",
       "      <td>0.010101</td>\n",
       "      <td>0.666667</td>\n",
       "      <td>0.006734</td>\n",
       "    </tr>\n",
       "    <tr>\n",
       "      <th>8</th>\n",
       "      <td>Week 8</td>\n",
       "      <td>F</td>\n",
       "      <td>9</td>\n",
       "      <td>32</td>\n",
       "      <td>0.107744</td>\n",
       "      <td>0.281250</td>\n",
       "      <td>0.030303</td>\n",
       "    </tr>\n",
       "    <tr>\n",
       "      <th>9</th>\n",
       "      <td>Week 8</td>\n",
       "      <td>P</td>\n",
       "      <td>23</td>\n",
       "      <td>32</td>\n",
       "      <td>0.107744</td>\n",
       "      <td>0.718750</td>\n",
       "      <td>0.077441</td>\n",
       "    </tr>\n",
       "  </tbody>\n",
       "</table>\n",
       "</div>"
      ],
      "text/plain": [
       "  weekFinished PorF  countPF  count     %week       %PF      %PFw\n",
       "0       Week 1    F      210    212  0.713805  0.990566  0.707071\n",
       "1       Week 1    P        2    212  0.713805  0.009434  0.006734\n",
       "2       Week 2    F       43     43  0.144781  1.000000  0.144781\n",
       "3       Week 3    F        1      1  0.003367  1.000000  0.003367\n",
       "4       Week 5    P        1      1  0.003367  1.000000  0.003367\n",
       "5       Week 6    F        5      5  0.016835  1.000000  0.016835\n",
       "6       Week 7    F        1      3  0.010101  0.333333  0.003367\n",
       "7       Week 7    P        2      3  0.010101  0.666667  0.006734\n",
       "8       Week 8    F        9     32  0.107744  0.281250  0.030303\n",
       "9       Week 8    P       23     32  0.107744  0.718750  0.077441"
      ]
     },
     "execution_count": 542,
     "metadata": {},
     "output_type": "execute_result"
    }
   ],
   "source": [
    "weeks"
   ]
  },
  {
   "cell_type": "code",
   "execution_count": 584,
   "metadata": {
    "collapsed": false,
    "scrolled": true
   },
   "outputs": [
    {
     "data": {
      "text/html": [
       "<div>\n",
       "<table border=\"1\" class=\"dataframe\">\n",
       "  <thead>\n",
       "    <tr style=\"text-align: right;\">\n",
       "      <th></th>\n",
       "      <th>weekFinished</th>\n",
       "      <th>PorF</th>\n",
       "      <th>countPF</th>\n",
       "      <th>count</th>\n",
       "      <th>%week</th>\n",
       "      <th>%PF</th>\n",
       "      <th>%PFw</th>\n",
       "    </tr>\n",
       "  </thead>\n",
       "  <tbody>\n",
       "    <tr>\n",
       "      <th>0</th>\n",
       "      <td>Week 1</td>\n",
       "      <td>P</td>\n",
       "      <td>2.0</td>\n",
       "      <td>212.0</td>\n",
       "      <td>0.713805</td>\n",
       "      <td>0.009434</td>\n",
       "      <td>0.006734</td>\n",
       "    </tr>\n",
       "    <tr>\n",
       "      <th>4</th>\n",
       "      <td>Week 2</td>\n",
       "      <td>P</td>\n",
       "      <td>NaN</td>\n",
       "      <td>NaN</td>\n",
       "      <td>NaN</td>\n",
       "      <td>NaN</td>\n",
       "      <td>0.000000</td>\n",
       "    </tr>\n",
       "    <tr>\n",
       "      <th>5</th>\n",
       "      <td>Week 3</td>\n",
       "      <td>P</td>\n",
       "      <td>NaN</td>\n",
       "      <td>NaN</td>\n",
       "      <td>NaN</td>\n",
       "      <td>NaN</td>\n",
       "      <td>0.000000</td>\n",
       "    </tr>\n",
       "    <tr>\n",
       "      <th>6</th>\n",
       "      <td>Week 4</td>\n",
       "      <td>P</td>\n",
       "      <td>NaN</td>\n",
       "      <td>NaN</td>\n",
       "      <td>NaN</td>\n",
       "      <td>NaN</td>\n",
       "      <td>0.000000</td>\n",
       "    </tr>\n",
       "    <tr>\n",
       "      <th>1</th>\n",
       "      <td>Week 5</td>\n",
       "      <td>P</td>\n",
       "      <td>1.0</td>\n",
       "      <td>1.0</td>\n",
       "      <td>0.003367</td>\n",
       "      <td>1.000000</td>\n",
       "      <td>0.003367</td>\n",
       "    </tr>\n",
       "    <tr>\n",
       "      <th>7</th>\n",
       "      <td>Week 6</td>\n",
       "      <td>P</td>\n",
       "      <td>NaN</td>\n",
       "      <td>NaN</td>\n",
       "      <td>NaN</td>\n",
       "      <td>NaN</td>\n",
       "      <td>0.000000</td>\n",
       "    </tr>\n",
       "    <tr>\n",
       "      <th>2</th>\n",
       "      <td>Week 7</td>\n",
       "      <td>P</td>\n",
       "      <td>2.0</td>\n",
       "      <td>3.0</td>\n",
       "      <td>0.010101</td>\n",
       "      <td>0.666667</td>\n",
       "      <td>0.006734</td>\n",
       "    </tr>\n",
       "    <tr>\n",
       "      <th>3</th>\n",
       "      <td>Week 8</td>\n",
       "      <td>P</td>\n",
       "      <td>23.0</td>\n",
       "      <td>32.0</td>\n",
       "      <td>0.107744</td>\n",
       "      <td>0.718750</td>\n",
       "      <td>0.077441</td>\n",
       "    </tr>\n",
       "  </tbody>\n",
       "</table>\n",
       "</div>"
      ],
      "text/plain": [
       "  weekFinished PorF  countPF  count     %week       %PF      %PFw\n",
       "0       Week 1    P      2.0  212.0  0.713805  0.009434  0.006734\n",
       "4       Week 2    P      NaN    NaN       NaN       NaN  0.000000\n",
       "5       Week 3    P      NaN    NaN       NaN       NaN  0.000000\n",
       "6       Week 4    P      NaN    NaN       NaN       NaN  0.000000\n",
       "1       Week 5    P      1.0    1.0  0.003367  1.000000  0.003367\n",
       "7       Week 6    P      NaN    NaN       NaN       NaN  0.000000\n",
       "2       Week 7    P      2.0    3.0  0.010101  0.666667  0.006734\n",
       "3       Week 8    P     23.0   32.0  0.107744  0.718750  0.077441"
      ]
     },
     "execution_count": 584,
     "metadata": {},
     "output_type": "execute_result"
    }
   ],
   "source": [
    "x=weeks[weeks.PorF=='P']\n",
    "for i in range(1,9):\n",
    "    if str(i) not in '.'.join(x.weekFinished.tolist()):\n",
    "        x=x.append({'weekFinished':'Week '+str(i),'PorF':'P','%PFw':0},ignore_index=True)\n",
    "x=x.sort_values('weekFinished')\n",
    "x"
   ]
  },
  {
   "cell_type": "code",
   "execution_count": 581,
   "metadata": {
    "collapsed": false
   },
   "outputs": [
    {
     "data": {
      "text/html": [
       "<div>\n",
       "<table border=\"1\" class=\"dataframe\">\n",
       "  <thead>\n",
       "    <tr style=\"text-align: right;\">\n",
       "      <th></th>\n",
       "      <th>weekFinished</th>\n",
       "      <th>PorF</th>\n",
       "      <th>countPF</th>\n",
       "      <th>count</th>\n",
       "      <th>%week</th>\n",
       "      <th>%PF</th>\n",
       "      <th>%PFw</th>\n",
       "    </tr>\n",
       "  </thead>\n",
       "  <tbody>\n",
       "    <tr>\n",
       "      <th>0</th>\n",
       "      <td>Week 1</td>\n",
       "      <td>F</td>\n",
       "      <td>210</td>\n",
       "      <td>212</td>\n",
       "      <td>0.713805</td>\n",
       "      <td>0.990566</td>\n",
       "      <td>0.707071</td>\n",
       "    </tr>\n",
       "    <tr>\n",
       "      <th>2</th>\n",
       "      <td>Week 2</td>\n",
       "      <td>F</td>\n",
       "      <td>43</td>\n",
       "      <td>43</td>\n",
       "      <td>0.144781</td>\n",
       "      <td>1.000000</td>\n",
       "      <td>0.144781</td>\n",
       "    </tr>\n",
       "    <tr>\n",
       "      <th>3</th>\n",
       "      <td>Week 3</td>\n",
       "      <td>F</td>\n",
       "      <td>1</td>\n",
       "      <td>1</td>\n",
       "      <td>0.003367</td>\n",
       "      <td>1.000000</td>\n",
       "      <td>0.003367</td>\n",
       "    </tr>\n",
       "    <tr>\n",
       "      <th>5</th>\n",
       "      <td>Week 6</td>\n",
       "      <td>F</td>\n",
       "      <td>5</td>\n",
       "      <td>5</td>\n",
       "      <td>0.016835</td>\n",
       "      <td>1.000000</td>\n",
       "      <td>0.016835</td>\n",
       "    </tr>\n",
       "    <tr>\n",
       "      <th>6</th>\n",
       "      <td>Week 7</td>\n",
       "      <td>F</td>\n",
       "      <td>1</td>\n",
       "      <td>3</td>\n",
       "      <td>0.010101</td>\n",
       "      <td>0.333333</td>\n",
       "      <td>0.003367</td>\n",
       "    </tr>\n",
       "    <tr>\n",
       "      <th>8</th>\n",
       "      <td>Week 8</td>\n",
       "      <td>F</td>\n",
       "      <td>9</td>\n",
       "      <td>32</td>\n",
       "      <td>0.107744</td>\n",
       "      <td>0.281250</td>\n",
       "      <td>0.030303</td>\n",
       "    </tr>\n",
       "  </tbody>\n",
       "</table>\n",
       "</div>"
      ],
      "text/plain": [
       "  weekFinished PorF  countPF  count     %week       %PF      %PFw\n",
       "0       Week 1    F      210    212  0.713805  0.990566  0.707071\n",
       "2       Week 2    F       43     43  0.144781  1.000000  0.144781\n",
       "3       Week 3    F        1      1  0.003367  1.000000  0.003367\n",
       "5       Week 6    F        5      5  0.016835  1.000000  0.016835\n",
       "6       Week 7    F        1      3  0.010101  0.333333  0.003367\n",
       "8       Week 8    F        9     32  0.107744  0.281250  0.030303"
      ]
     },
     "execution_count": 581,
     "metadata": {},
     "output_type": "execute_result"
    }
   ],
   "source": [
    "y=weeks[weeks.PorF=='F']\n",
    "for i in range(1,9):\n",
    "    if str(i) not in '.'.join(x.weekFinished.tolist()):\n",
    "        y=y.append({'weekFinished':'Week '+str(i),'PorF':'F','%PFw':0},ignore_index=True)\n",
    "y"
   ]
  },
  {
   "cell_type": "code",
   "execution_count": 585,
   "metadata": {
    "collapsed": false
   },
   "outputs": [
    {
     "data": {
      "text/html": [
       "<iframe id=\"igraph\" scrolling=\"no\" style=\"border:none;\" seamless=\"seamless\" src=\"https://plot.ly/~nguyli03/2.embed\" height=\"525px\" width=\"100%\"></iframe>"
      ],
      "text/plain": [
       "<plotly.tools.PlotlyDisplay object>"
      ]
     },
     "execution_count": 585,
     "metadata": {},
     "output_type": "execute_result"
    }
   ],
   "source": [
    "import plotly.plotly as py\n",
    "py.sign_in('nguyli03', '31jlkx7yjq')\n",
    "import plotly.graph_objs as go\n",
    "\n",
    "trace1 = go.Bar(\n",
    "    x=x['weekFinished'],\n",
    "    y=x['%PFw'],\n",
    "    name='pass'\n",
    ")\n",
    "trace2 = go.Bar(\n",
    "    x=y['weekFinished'],\n",
    "    y=y['%PFw'],\n",
    "    name='fail'\n",
    ")\n",
    "\n",
    "data = [trace1, trace2]\n",
    "layout = go.Layout(\n",
    "    barmode='stack'\n",
    ")\n",
    "\n",
    "fig = go.Figure(data=data,layout=layout)\n",
    "py.iplot(fig, filename='stacked-bar')\n"
   ]
  },
  {
   "cell_type": "code",
   "execution_count": null,
   "metadata": {
    "collapsed": false
   },
   "outputs": [],
   "source": []
  },
  {
   "cell_type": "code",
   "execution_count": null,
   "metadata": {
    "collapsed": true
   },
   "outputs": [],
   "source": []
  }
 ],
 "metadata": {
  "kernelspec": {
   "display_name": "Python 3",
   "language": "python",
   "name": "python3"
  },
  "language_info": {
   "codemirror_mode": {
    "name": "ipython",
    "version": 3
   },
   "file_extension": ".py",
   "mimetype": "text/x-python",
   "name": "python",
   "nbconvert_exporter": "python",
   "pygments_lexer": "ipython3",
   "version": "3.5.1"
  }
 },
 "nbformat": 4,
 "nbformat_minor": 1
}
